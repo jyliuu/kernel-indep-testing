{
 "cells": [
  {
   "cell_type": "code",
   "outputs": [
    {
     "name": "stdout",
     "output_type": "stream",
     "text": [
      "The autoreload extension is already loaded. To reload it, use:\n",
      "  %reload_ext autoreload\n"
     ]
    }
   ],
   "source": [
    "%load_ext autoreload\n",
    "%autoreload 2\n",
    "\n",
    "from src import *\n",
    "import matplotlib.pyplot as plt"
   ],
   "metadata": {
    "collapsed": false,
    "ExecuteTime": {
     "end_time": "2024-05-17T11:34:53.563039Z",
     "start_time": "2024-05-17T11:34:53.551828Z"
    }
   },
   "id": "5c057cc438b3a9f7",
   "execution_count": 4
  },
  {
   "cell_type": "code",
   "outputs": [],
   "source": [
    "N = 100\n",
    "p = 4\n",
    "\n",
    "mean = np.zeros(p)\n",
    "A = np.random.randn(p, p)\n",
    "cov_matrix = A @ A.T"
   ],
   "metadata": {
    "collapsed": false,
    "ExecuteTime": {
     "end_time": "2024-05-17T11:34:53.570883Z",
     "start_time": "2024-05-17T11:34:53.564041Z"
    }
   },
   "id": "e011fdbd64857600",
   "execution_count": 5
  },
  {
   "cell_type": "markdown",
   "source": [
    "# Simulate data"
   ],
   "metadata": {
    "collapsed": false
   },
   "id": "eb0f53c66d49eb0b"
  },
  {
   "cell_type": "code",
   "outputs": [],
   "source": [
    "def simulate_dat(N = 100, p = 5, q = 5, dependence = True) :\n",
    "    mean = np.zeros(p)\n",
    "    A = np.random.randn(p, p)\n",
    "    cov_matrix = A @ A.T\n",
    "    X = np.random.multivariate_normal(mean, cov_matrix, N)\n",
    "        \n",
    "    if dependence:\n",
    "        A = np.random.rand(p, q) # generate some dependence\n",
    "        Y = X @ A\n",
    "    else:\n",
    "        A = np.random.randn(q, q)\n",
    "        cov_matrix = A @ A.T\n",
    "        mean = np.zeros(q)\n",
    "        Y = np.random.multivariate_normal(mean, cov_matrix, N)\n",
    "    return X, Y"
   ],
   "metadata": {
    "collapsed": false,
    "ExecuteTime": {
     "end_time": "2024-05-17T11:34:53.580578Z",
     "start_time": "2024-05-17T11:34:53.571990Z"
    }
   },
   "id": "9469d3efc44f5bf",
   "execution_count": 6
  },
  {
   "cell_type": "code",
   "outputs": [],
   "source": [
    "X, Y = simulate_dat()"
   ],
   "metadata": {
    "collapsed": false,
    "ExecuteTime": {
     "end_time": "2024-05-17T11:34:53.593679Z",
     "start_time": "2024-05-17T11:34:53.582658Z"
    }
   },
   "id": "9da6bba50b956ba0",
   "execution_count": 7
  },
  {
   "cell_type": "code",
   "outputs": [],
   "source": [
    "K = gaussian_kernel_matrix(X, 2)\n",
    "L = gaussian_kernel_matrix(Y, 2)"
   ],
   "metadata": {
    "collapsed": false
   },
   "id": "5a5b5af42ea7e548"
  },
  {
   "cell_type": "code",
   "outputs": [],
   "source": [
    "HSIC_test(K, L)"
   ],
   "metadata": {
    "collapsed": false
   },
   "id": "47106765beaa6c47"
  },
  {
   "cell_type": "code",
   "outputs": [],
   "source": [
    "HSIC_test2(K, L)"
   ],
   "metadata": {
    "collapsed": false
   },
   "id": "8693ea14910de5a9"
  },
  {
   "cell_type": "code",
   "outputs": [],
   "source": [
    "def test_using_HSIC(X, Y, hsic_func):\n",
    "    K = gaussian_kernel_matrix(X, 2)\n",
    "    L = gaussian_kernel_matrix(Y, 2)\n",
    "    return hsic_func(K, L)"
   ],
   "metadata": {
    "collapsed": false
   },
   "id": "eca3b64484c337b9"
  },
  {
   "cell_type": "markdown",
   "source": [
    "# Test with dependence"
   ],
   "metadata": {
    "collapsed": false
   },
   "id": "9651844abc4ec6a9"
  },
  {
   "cell_type": "code",
   "outputs": [],
   "source": [
    "res = [test_using_HSIC(*simulate_dat(), hsic_func=HSIC_test) for _ in range(1000)]"
   ],
   "metadata": {
    "collapsed": false
   },
   "id": "207826306fe0525c"
  },
  {
   "cell_type": "code",
   "outputs": [],
   "source": [
    "plt.hist(res, bins=40, edgecolor='black')  # `bins` specifies the number of intervals\n",
    "plt.xlabel('Value')\n",
    "plt.ylabel('Frequency')\n",
    "plt.title('Histogram of Data')\n",
    "plt.show()"
   ],
   "metadata": {
    "collapsed": false
   },
   "id": "457097bc8be51ac"
  },
  {
   "cell_type": "markdown",
   "source": [
    "# Test with no dependence"
   ],
   "metadata": {
    "collapsed": false
   },
   "id": "ca84017e1214a862"
  },
  {
   "cell_type": "code",
   "outputs": [],
   "source": [
    "res_nodep = [test_using_HSIC(*simulate_dat(dependence=False), hsic_func=HSIC_test) for _ in range(1000)]\n",
    "plt.hist(res_nodep, bins=40, edgecolor='black')  # `bins` specifies the number of intervals\n",
    "plt.xlabel('Value')\n",
    "plt.ylabel('Frequency')\n",
    "plt.title('Histogram of Data')\n",
    "plt.show()"
   ],
   "metadata": {
    "collapsed": false
   },
   "id": "44b4ba6ce3ce5f33"
  },
  {
   "cell_type": "markdown",
   "source": [
    "# Permutation test"
   ],
   "metadata": {
    "collapsed": false
   },
   "id": "3664a8ff2958137a"
  },
  {
   "cell_type": "code",
   "outputs": [],
   "source": [
    "X, Y = simulate_dat()\n",
    "permutation_res = [test_using_HSIC(X, Y[np.random.permutation(np.arange(0, N)), :], hsic_func=HSIC_test) for _ in\n",
    "                   range(10000)]\n",
    "T = test_using_HSIC(X, Y, hsic_func=HSIC_test)\n",
    "plt.hist(permutation_res, bins=40, edgecolor='black')  # `bins` specifies the number of intervals\n",
    "plt.axvline(x=T, color='red', linestyle='--', linewidth=2)\n",
    "plt.xlabel('Value')\n",
    "plt.ylabel('Frequency')\n",
    "plt.title('Histogram of Data')\n",
    "plt.show()"
   ],
   "metadata": {
    "collapsed": false
   },
   "id": "1431d7622a477808"
  },
  {
   "cell_type": "markdown",
   "source": [
    "# Permutation no dependence"
   ],
   "metadata": {
    "collapsed": false
   },
   "id": "8baf861b61118a74"
  },
  {
   "cell_type": "code",
   "outputs": [],
   "source": [
    "X, Y = simulate_dat(dependence=False)\n",
    "permutation_res_nodep = [test_using_HSIC(X, Y[np.random.permutation(np.arange(0, N)), :], hsic_func=HSIC_test) for _ in\n",
    "                   range(5000)]\n",
    "T = test_using_HSIC(X, Y, hsic_func=HSIC_test)\n",
    "plt.hist(permutation_res_nodep, bins=40, edgecolor='black')  # `bins` specifies the number of intervals\n",
    "plt.axvline(x=T, color='red', linestyle='--', linewidth=2)\n",
    "plt.xlabel('Value')\n",
    "plt.ylabel('Frequency')\n",
    "plt.title('Histogram of Data')\n",
    "plt.show()"
   ],
   "metadata": {
    "collapsed": false
   },
   "id": "9d94756f5c49c187"
  },
  {
   "cell_type": "code",
   "outputs": [],
   "source": [],
   "metadata": {
    "collapsed": false
   },
   "id": "d6344b56c4b64ff2",
   "execution_count": null
  }
 ],
 "metadata": {
  "kernelspec": {
   "display_name": "Python 3",
   "language": "python",
   "name": "python3"
  },
  "language_info": {
   "codemirror_mode": {
    "name": "ipython",
    "version": 2
   },
   "file_extension": ".py",
   "mimetype": "text/x-python",
   "name": "python",
   "nbconvert_exporter": "python",
   "pygments_lexer": "ipython2",
   "version": "2.7.6"
  }
 },
 "nbformat": 4,
 "nbformat_minor": 5
}
